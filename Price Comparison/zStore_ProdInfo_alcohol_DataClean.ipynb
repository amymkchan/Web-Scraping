{
 "cells": [
  {
   "cell_type": "markdown",
   "metadata": {},
   "source": [
    "# Data Cleaning for ztore 伏特加\n",
    "\n",
    "- volume: remove \"體積：\"\n",
    "- weight: remove \"重量：\"\n",
    "- replace price with original if original is not null"
   ]
  },
  {
   "cell_type": "code",
   "execution_count": 1,
   "metadata": {},
   "outputs": [],
   "source": [
    "import numpy as np # linear algebra\n",
    "import pandas as pd # data processing, CSV file I/O (e.g. pd.read_csv)\n",
    "import pycnnum as cn # convert chinese number to arabic number\n",
    "import os # take a look on the dataset\n",
    "import time\n",
    "import re"
   ]
  },
  {
   "cell_type": "code",
   "execution_count": 2,
   "metadata": {},
   "outputs": [],
   "source": [
    "#Define Variable\n",
    "#Define Variable\n",
    "extract_product=\"alcohol\"\n",
    "category=\"vodka\"\n",
    "\n",
    "#DateStr='20211214'\n",
    "DateStr=time.strftime(\"%Y%m%d\")\n",
    "\n",
    "#OutFile = \"output/zstoreHref_\"+time.strftime(\"%Y%m%d-%H%M%S\")+\".csv\"\n",
    "InProductsFile = \"Input/zstore_ProdInfo_\"+extract_product+\"_\"+category+\"_\"+time.strftime(\"%Y%m%d\")+\".csv\"\n",
    "OutProductsFile = \"output/zstore_ProdInfo_\"+extract_product+\"_\"+category+\"_\"+DateStr+\"_clean.csv\""
   ]
  },
  {
   "cell_type": "code",
   "execution_count": 3,
   "metadata": {},
   "outputs": [
    {
     "name": "stdout",
     "output_type": "stream",
     "text": [
      "<class 'pandas.core.frame.DataFrame'>\n",
      "RangeIndex: 25 entries, 0 to 24\n",
      "Data columns (total 13 columns):\n",
      " #   Column        Non-Null Count  Dtype \n",
      "---  ------        --------------  ----- \n",
      " 0   co            25 non-null     object\n",
      " 1   category      25 non-null     object\n",
      " 2   extract_date  25 non-null     int64 \n",
      " 3   band          25 non-null     object\n",
      " 4   description   25 non-null     object\n",
      " 5   volume        24 non-null     object\n",
      " 6   weight        24 non-null     object\n",
      " 7   price         25 non-null     object\n",
      " 8   original      21 non-null     object\n",
      " 9   promotion     21 non-null     object\n",
      " 10  stock_status  25 non-null     object\n",
      " 11  country       25 non-null     object\n",
      " 12  URL           25 non-null     object\n",
      "dtypes: int64(1), object(12)\n",
      "memory usage: 2.7+ KB\n"
     ]
    }
   ],
   "source": [
    "# import the dataset and name it as df\n",
    "zstore_dataset = pd.read_csv(InProductsFile)\n",
    "zstore_dataset.info()"
   ]
  },
  {
   "cell_type": "code",
   "execution_count": 4,
   "metadata": {},
   "outputs": [
    {
     "name": "stderr",
     "output_type": "stream",
     "text": [
      "C:\\Users\\chan\\Anaconda3\\lib\\site-packages\\ipykernel_launcher.py:13: SettingWithCopyWarning: \n",
      "A value is trying to be set on a copy of a slice from a DataFrame\n",
      "\n",
      "See the caveats in the documentation: https://pandas.pydata.org/pandas-docs/stable/user_guide/indexing.html#returning-a-view-versus-a-copy\n",
      "  del sys.path[0]\n",
      "C:\\Users\\chan\\Anaconda3\\lib\\site-packages\\ipykernel_launcher.py:16: FutureWarning: The default value of regex will change from True to False in a future version. In addition, single character regular expressions will *not* be treated as literal strings when regex=True.\n",
      "  app.launch_new_instance()\n",
      "C:\\Users\\chan\\Anaconda3\\lib\\site-packages\\ipykernel_launcher.py:20: FutureWarning: The default value of regex will change from True to False in a future version. In addition, single character regular expressions will *not* be treated as literal strings when regex=True.\n"
     ]
    }
   ],
   "source": [
    "# data cleaning\n",
    "\n",
    "# - volume: remove \"體積：\"\n",
    "zstore_dataset['volume'] = zstore_dataset.volume.str.replace('體積：' , '')\n",
    "\n",
    "# - weight: remove \"重量：\"\n",
    "zstore_dataset['weight'] = zstore_dataset.weight.str.replace('重量：' , '')\n",
    "\n",
    "# - Price with original if original is not null\n",
    "for i in range(0,len(zstore_dataset)):\n",
    "    #print(i,zstore_dataset.original[i])\n",
    "    if pd.isna(zstore_dataset.promotion[i]):\n",
    "        zstore_dataset.original[i]=zstore_dataset.price[i]\n",
    "        \n",
    "# promotion : remove{'$',',')\n",
    "zstore_dataset['promotion'] =zstore_dataset.promotion.str.replace('$' , '')\n",
    "zstore_dataset['promotion'] =zstore_dataset.promotion.str.replace(',' , '')\n",
    "\n",
    "# original : remove{'$',',')\n",
    "zstore_dataset['original'] =zstore_dataset.original.str.replace('$' , '')\n",
    "zstore_dataset['original'] =zstore_dataset.original.str.replace(',' , '')"
   ]
  },
  {
   "cell_type": "code",
   "execution_count": 5,
   "metadata": {},
   "outputs": [],
   "source": [
    "# Remove the \"price\" column\n",
    "zstore_dataset = zstore_dataset.drop(['price'],axis=1)\n",
    "\n",
    "# changing cols with rename()\n",
    "zstore_dataset = zstore_dataset.rename(columns = {\"original\":\"price\"})"
   ]
  },
  {
   "cell_type": "markdown",
   "metadata": {},
   "source": [
    "## delete records "
   ]
  },
  {
   "cell_type": "code",
   "execution_count": 6,
   "metadata": {},
   "outputs": [],
   "source": [
    "# Check the address\n",
    "#band_to_handle = ['新奇士']\n",
    "#df_clean=zstore_dataset[~zstore_dataset['band'].isin(band_to_handle)]\n",
    "df_clean=zstore_dataset"
   ]
  },
  {
   "cell_type": "code",
   "execution_count": 7,
   "metadata": {},
   "outputs": [
    {
     "name": "stdout",
     "output_type": "stream",
     "text": [
      "25\n"
     ]
    }
   ],
   "source": [
    "print(len(zstore_dataset))"
   ]
  },
  {
   "cell_type": "code",
   "execution_count": 8,
   "metadata": {},
   "outputs": [],
   "source": [
    "# export the final dataset to CSV file\n",
    "df_clean.to_csv(OutProductsFile, index=False, encoding='utf_8_sig') "
   ]
  },
  {
   "cell_type": "code",
   "execution_count": null,
   "metadata": {},
   "outputs": [],
   "source": []
  }
 ],
 "metadata": {
  "kernelspec": {
   "display_name": "Python 3",
   "language": "python",
   "name": "python3"
  },
  "language_info": {
   "codemirror_mode": {
    "name": "ipython",
    "version": 3
   },
   "file_extension": ".py",
   "mimetype": "text/x-python",
   "name": "python",
   "nbconvert_exporter": "python",
   "pygments_lexer": "ipython3",
   "version": "3.7.1"
  }
 },
 "nbformat": 4,
 "nbformat_minor": 2
}
